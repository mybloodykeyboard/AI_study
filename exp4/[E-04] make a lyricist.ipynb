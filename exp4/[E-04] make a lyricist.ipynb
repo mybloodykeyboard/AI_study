{
 "cells": [
  {
   "cell_type": "markdown",
   "id": "8405e06d",
   "metadata": {},
   "source": [
    "---\n",
    "# [E-03] make a lyricist\n",
    "\n",
    "## 01. 데이터 로드\n"
   ]
  },
  {
   "cell_type": "code",
   "execution_count": 66,
   "id": "f7bea5a3",
   "metadata": {},
   "outputs": [
    {
     "name": "stdout",
     "output_type": "stream",
     "text": [
      "데이터 크기: 187088\n",
      "Examples:\n",
      " [\"Now I've heard there was a secret chord\", 'That David played, and it pleased the Lord', \"But you don't really care for music, do you?\"]\n"
     ]
    }
   ],
   "source": [
    "import glob\n",
    "import os\n",
    "\n",
    "txt_file_path = os.getenv('HOME')+'/aiffel/lyricist/data/lyrics/*'\n",
    "\n",
    "txt_list = glob.glob(txt_file_path)\n",
    "\n",
    "raw_corpus = []\n",
    "\n",
    "# 여러개의 txt 파일을 모두 읽어서 raw_corpus 에 담습니다.\n",
    "for txt_file in txt_list:\n",
    "    with open(txt_file, \"r\") as f:\n",
    "        raw = f.read().splitlines()\n",
    "        raw_corpus.extend(raw)\n",
    "\n",
    "print(\"데이터 크기:\", len(raw_corpus))\n",
    "print(\"Examples:\\n\", raw_corpus[:3])"
   ]
  },
  {
   "cell_type": "markdown",
   "id": "f241f978",
   "metadata": {},
   "source": [
    "---\n",
    "## 02. 데이터 전처리\n",
    "학습에 용이하도록 데이터를 삭제 및 수정\n",
    "\n",
    "#### - 문장 다듬기\n",
    "\n",
    "     1. 소문자로 바꾸고, 양쪽 공백을 지우기\n",
    "     2. 특수문자 양쪽에 공백을 넣기\n",
    "     3. 여러개의 공백은 하나의 공백으로 바꾸기\n",
    "     4. a-zA-Z?.!,¿가 아닌 모든 문자를 하나의 공백으로 바꾸기\n",
    "     5. 다시 양쪽 공백을 지우기\n",
    "     6. 문장 시작에는 <start>, 끝에는 <end>를 추가\n",
    "     \n",
    "#### - 문장 길이 제한     "
   ]
  },
  {
   "cell_type": "code",
   "execution_count": 67,
   "id": "9bd9833c",
   "metadata": {},
   "outputs": [
    {
     "name": "stdout",
     "output_type": "stream",
     "text": [
      "<start> this is sample sentence . <end>\n"
     ]
    }
   ],
   "source": [
    "\n",
    "def preprocess_sentence(sentence):\n",
    "    sentence = sentence.lower().strip() # 1\n",
    "    sentence = re.sub(r\"([?.!,¿])\", r\" \\1 \", sentence) # 2\n",
    "    sentence = re.sub(r'[\" \"]+', \" \", sentence) # 3\n",
    "    sentence = re.sub(r\"[^a-zA-Z?.!,¿]+\", \" \", sentence) # 4\n",
    "    sentence = sentence.strip() # 5\n",
    "    sentence = '<start> ' + sentence + ' <end>' # 6\n",
    "    return sentence\n",
    "\n",
    "\n",
    "print(preprocess_sentence(\"This @_is ;;;sample        sentence.\"))"
   ]
  },
  {
   "cell_type": "code",
   "execution_count": 68,
   "id": "cd72097a",
   "metadata": {},
   "outputs": [
    {
     "data": {
      "text/plain": [
       "['<start> now i ve heard there was a secret chord <end>',\n",
       " '<start> that david played , and it pleased the lord <end>',\n",
       " '<start> but you don t really care for music , do you ? <end>',\n",
       " '<start> it goes like this <end>',\n",
       " '<start> the fourth , the fifth <end>',\n",
       " '<start> the minor fall , the major lift <end>',\n",
       " '<start> the baffled king composing hallelujah hallelujah <end>',\n",
       " '<start> hallelujah <end>',\n",
       " '<start> hallelujah <end>',\n",
       " '<start> hallelujah your faith was strong but you needed proof <end>']"
      ]
     },
     "execution_count": 68,
     "metadata": {},
     "output_type": "execute_result"
    }
   ],
   "source": [
    "corpus2 = []\n",
    "\n",
    "for sentence in raw_corpus:\n",
    "    # 불필요한 줄 제거\n",
    "    if len(sentence) == 0: continue\n",
    "#     if sentence[-1] == \":\": continue\n",
    "    preprocessed_sentence = preprocess_sentence(sentence)\n",
    "    # 정제후 단어의 개수가 13개를 넘는 문장 제외 (<start>, <end> 제외)\n",
    "    if not ( preprocessed_sentence.count(' ')+1 <= 15) : continue\n",
    "#     if preprocessed_sentence.count(' ')+1 <= 4 : continue    \n",
    "\n",
    "    \n",
    "    corpus2.append(preprocessed_sentence)\n",
    "        \n",
    "\n",
    "corpus2[:10]\n"
   ]
  },
  {
   "cell_type": "code",
   "execution_count": 69,
   "id": "8966a56a",
   "metadata": {},
   "outputs": [
    {
     "name": "stdout",
     "output_type": "stream",
     "text": [
      "13\n"
     ]
    }
   ],
   "source": [
    "print(corpus2[2].count(' '))"
   ]
  },
  {
   "cell_type": "markdown",
   "id": "4abc8fad",
   "metadata": {},
   "source": [
    "## 03. 데이터 토큰화\n",
    "- 12000단어 짜리 사전을 만든다고 생각하자.\n",
    "- 각 단어 별로 숫자가 매겨진다.\n",
    "- 사전 속 없는 단어는 <unk> 로 출력된다.\n"
   ]
  },
  {
   "cell_type": "code",
   "execution_count": 70,
   "id": "66d668a5",
   "metadata": {},
   "outputs": [
    {
     "name": "stdout",
     "output_type": "stream",
     "text": [
      "[[  2  50   4 ...   0   0   0]\n",
      " [  2  15   1 ...   0   0   0]\n",
      " [  2  33   7 ...  46   3   0]\n",
      " ...\n",
      " [  2   4 117 ...   0   0   0]\n",
      " [  2 258 195 ...  12   3   0]\n",
      " [  2   7  34 ...   0   0   0]] <keras_preprocessing.text.Tokenizer object at 0x7fec34dee040>\n"
     ]
    }
   ],
   "source": [
    "def tokenize(corpus):\n",
    "    # 12000단어를 기억할 수 있는 tokenizer를 만든다.\n",
    "    # 우리는 이미 문장을 정제했으니 filters가 필요없어요\n",
    "    # 12000단어에 포함되지 못한 단어는 '<unk>'로 바꿀거에요\n",
    "    tokenizer = tf.keras.preprocessing.text.Tokenizer(\n",
    "        num_words=12000, \n",
    "        filters=' ',\n",
    "        oov_token=\"<unk>\"\n",
    "    )\n",
    "    # corpus를 이용해 tokenizer 내부의 단어장을 완성합니다\n",
    "    tokenizer.fit_on_texts(corpus)\n",
    "    # 준비한 tokenizer를 이용해 corpus를 Tensor로 변환합니다\n",
    "    tensor = tokenizer.texts_to_sequences(corpus)   \n",
    "    # 입력 데이터의 시퀀스 길이를 일정하게 맞춰줍니다\n",
    "    # 만약 시퀀스가 짧다면 문장 뒤에 패딩을 붙여 길이를 맞춰줍니다.\n",
    "    # 문장 앞에 패딩을 붙여 길이를 맞추고 싶다면 padding='pre'를 사용합니다\n",
    "    tensor = tf.keras.preprocessing.sequence.pad_sequences(tensor, padding='post')  \n",
    "    \n",
    "    print(tensor,tokenizer)\n",
    "    return tensor, tokenizer\n",
    "\n",
    "tensor, tokenizer = tokenize(corpus2)"
   ]
  },
  {
   "cell_type": "markdown",
   "id": "3f1b9332",
   "metadata": {},
   "source": [
    "다음와 같이 숫자별로 단어들이 등록된 것을 확인 할 수 있다."
   ]
  },
  {
   "cell_type": "code",
   "execution_count": 71,
   "id": "55aa1030",
   "metadata": {},
   "outputs": [
    {
     "name": "stdout",
     "output_type": "stream",
     "text": [
      "1 : <unk>\n",
      "2 : <start>\n",
      "3 : <end>\n",
      "4 : i\n",
      "5 : ,\n",
      "6 : the\n",
      "7 : you\n",
      "8 : and\n",
      "9 : a\n",
      "10 : to\n"
     ]
    }
   ],
   "source": [
    "for idx in tokenizer.index_word:\n",
    "    print(idx, \":\", tokenizer.index_word[idx])\n",
    "\n",
    "    if idx >= 10: break\n",
    "        "
   ]
  },
  {
   "attachments": {
    "image.png": {
     "image/png": "[encoded data removed]"
    }
   },
   "cell_type": "markdown",
   "id": "af451341",
   "metadata": {},
   "source": [
    "## 04. 데이터셋 만들기\n",
    "입력과 출력에 대한 데이터 셋을 만들어준다. 이번에는 각각 source와 target이다.\n",
    "아래와 같은 형태를 만들어준다고 생각하면 이해가 편하다.\n",
    "\n",
    "![image.png](attachment:image.png)"
   ]
  },
  {
   "cell_type": "code",
   "execution_count": 72,
   "id": "9086695c",
   "metadata": {},
   "outputs": [
    {
     "name": "stdout",
     "output_type": "stream",
     "text": [
      "[  2  50   4  95 303  62  53   9 946   1   3   0   0   0]\n",
      "[ 50   4  95 303  62  53   9 946   1   3   0   0   0   0]\n"
     ]
    }
   ],
   "source": [
    "# tensor에서 마지막 토큰을 잘라내서 소스 문장을 생성합니다\n",
    "# 마지막 토큰은 <end>가 아니라 <pad>일 가능성이 높습니다.\n",
    "src_input = tensor[:, :-1]  \n",
    "# tensor에서 <start>를 잘라내서 타겟 문장을 생성합니다.\n",
    "tgt_input = tensor[:, 1:]    \n",
    "\n",
    "print(src_input[0])\n",
    "print(tgt_input[0])"
   ]
  },
  {
   "cell_type": "code",
   "execution_count": 74,
   "id": "2276baad",
   "metadata": {},
   "outputs": [
    {
     "name": "stdout",
     "output_type": "stream",
     "text": [
      "Source Train: (124981, 14)\n",
      "Target Train: (124981, 14)\n"
     ]
    }
   ],
   "source": [
    "from sklearn.model_selection import train_test_split\n",
    "    \n",
    "    # 8:2로 validation set 만들어줌.\n",
    "enc_train, enc_val, dec_train, dec_val = train_test_split(\n",
    "    src_input, tgt_input, test_size=0.2, random_state=7\n",
    ")\n",
    "\n",
    "print(\"Source Train:\", enc_train.shape)\n",
    "print(\"Target Train:\", dec_train.shape)"
   ]
  },
  {
   "cell_type": "code",
   "execution_count": 77,
   "id": "e8f7eec9",
   "metadata": {},
   "outputs": [],
   "source": [
    "TRAIN_BUFFER_SIZE = len(enc_train)\n",
    "VAL_BUFFER_SIZE = len(enc_val)\n",
    "\n",
    "TRAIN_BATCH_SIZE = 512\n",
    "VAL_BATCH_SIZE = 128\n",
    "\n",
    "# steps_per_epoch = len(src_input) // BATCH_SIZE\n",
    "\n",
    "VOCAB_SIZE = tokenizer.num_words + 1   \n",
    "\n",
    "trainset = tf.data.Dataset.from_tensor_slices((enc_train, dec_train))    # Train numpy를 dataset형식으로 변환\n",
    "trainset = trainset.shuffle(TRAIN_BUFFER_SIZE)                           # Train dataset 섞기\n",
    "trainset = trainset.batch(TRAIN_BATCH_SIZE, drop_remainder=True)        # Train dataset의 배치사이즈 설정\n",
    " \n",
    "testset = tf.data.Dataset.from_tensor_slices((enc_val, dec_val))       # Test numpy를 dataset형식으로 변환\n",
    "testset = testset.shuffle(VAL_BUFFER_SIZE)                              # Test dataset 섞기\n",
    "testset = testset.batch(VAL_BATCH_SIZE, drop_remainder=True)           # Test dataset의 배치사이즈 설정\n"
   ]
  },
  {
   "cell_type": "markdown",
   "id": "33df4901",
   "metadata": {},
   "source": [
    "## 05. 모델 설계 및 학습\n",
    "- Embedding은 tokenize한 정보들을 벡터로 변환해주는 역할.\n",
    "- hidden_size는 노드 수."
   ]
  },
  {
   "cell_type": "code",
   "execution_count": 78,
   "id": "29a3a30c",
   "metadata": {},
   "outputs": [
    {
     "name": "stdout",
     "output_type": "stream",
     "text": [
      "Epoch 1/10\n",
      "244/244 [==============================] - 195s 730ms/step - loss: 2.7572 - val_loss: 2.4163\n",
      "Epoch 2/10\n",
      "244/244 [==============================] - 180s 739ms/step - loss: 2.2992 - val_loss: 2.2222\n",
      "Epoch 3/10\n",
      "244/244 [==============================] - 181s 741ms/step - loss: 2.1107 - val_loss: 2.0943\n",
      "Epoch 4/10\n",
      "244/244 [==============================] - 181s 741ms/step - loss: 1.9206 - val_loss: 1.9851\n",
      "Epoch 5/10\n",
      "244/244 [==============================] - 181s 742ms/step - loss: 1.7068 - val_loss: 1.8930\n",
      "Epoch 6/10\n",
      "244/244 [==============================] - 181s 742ms/step - loss: 1.4817 - val_loss: 1.8236\n",
      "Epoch 7/10\n",
      "244/244 [==============================] - 181s 742ms/step - loss: 1.2802 - val_loss: 1.7817\n",
      "Epoch 8/10\n",
      "244/244 [==============================] - 181s 742ms/step - loss: 1.1293 - val_loss: 1.7725\n",
      "Epoch 9/10\n",
      "244/244 [==============================] - 181s 742ms/step - loss: 1.0393 - val_loss: 1.7830\n",
      "Epoch 10/10\n",
      "244/244 [==============================] - 181s 741ms/step - loss: 0.9901 - val_loss: 1.7916\n"
     ]
    },
    {
     "data": {
      "text/plain": [
       "<keras.callbacks.History at 0x7fed40388310>"
      ]
     },
     "execution_count": 78,
     "metadata": {},
     "output_type": "execute_result"
    }
   ],
   "source": [
    "class TextGenerator(tf.keras.Model):\n",
    "    def __init__(self, vocab_size, embedding_size, hidden_size):\n",
    "        super().__init__()\n",
    "        \n",
    "        self.embedding = tf.keras.layers.Embedding(vocab_size, embedding_size)     # 단어사전에 의해 변환된 숫자를 벡터로 변환\n",
    "        self.rnn_1 = tf.keras.layers.LSTM(hidden_size, return_sequences=True)     # LSMT Layer \n",
    "        self.rnn_2 = tf.keras.layers.LSTM(hidden_size, return_sequences=True)     # LSMT Layer\n",
    "        self.linear = tf.keras.layers.Dense(vocab_size)                            # 출력 및 단어 예측을 위한 Fully-Connected Layer\n",
    "    \n",
    "    def call(self, x):\n",
    "        out = self.embedding(x)\n",
    "        out = self.rnn_1(out)\n",
    "        out = self.rnn_2(out)\n",
    "        out = self.linear(out)\n",
    "        \n",
    "        return out\n",
    "    \n",
    "embedding_size = 512\n",
    "hidden_size = 2048\n",
    "model_lstm = TextGenerator(tokenizer.num_words + 1, embedding_size , hidden_size)\n",
    "\n",
    "\n",
    "#Optimizer , Loss\n",
    "\n",
    "optimizer = tf.keras.optimizers.Adam()\n",
    "loss = tf.keras.losses.SparseCategoricalCrossentropy(\n",
    "    from_logits=True,\n",
    "    reduction='none'\n",
    ")\n",
    "\n",
    "model_lstm.compile(loss=loss, optimizer=optimizer)\n",
    "model_lstm.fit(trainset, epochs=10, validation_data=testset)"
   ]
  },
  {
   "cell_type": "markdown",
   "id": "2c37c307",
   "metadata": {},
   "source": [
    "## 06. 학습 결과\n",
    "- 문장 생성 결과(i love, hey boy, sunday, what should)\n"
   ]
  },
  {
   "cell_type": "code",
   "execution_count": 81,
   "id": "4842fd63",
   "metadata": {},
   "outputs": [],
   "source": [
    "def generate_text(model, tokenizer, init_sentence=\"<start>\", max_len=20):\n",
    "    # 테스트를 위해서 입력받은 init_sentence도 텐서로 변환합니다\n",
    "    test_input = tokenizer.texts_to_sequences([init_sentence])\n",
    "    test_tensor = tf.convert_to_tensor(test_input, dtype=tf.int64)\n",
    "    end_token = tokenizer.word_index[\"<end>\"]\n",
    "\n",
    "    # 단어 하나씩 예측해 문장을 만듭니다\n",
    "    #    1. 입력받은 문장의 텐서를 입력합니다\n",
    "    #    2. 예측된 값 중 가장 높은 확률인 word index를 뽑아냅니다\n",
    "    #    3. 2에서 예측된 word index를 문장 뒤에 붙입니다\n",
    "    #    4. 모델이 <end>를 예측했거나, max_len에 도달했다면 문장 생성을 마칩니다\n",
    "    while True:\n",
    "        # 1\n",
    "        predict = model(test_tensor) \n",
    "        # 2\n",
    "        predict_word = tf.argmax(tf.nn.softmax(predict, axis=-1), axis=-1)[:, -1] \n",
    "        # 3 \n",
    "        test_tensor = tf.concat([test_tensor, tf.expand_dims(predict_word, axis=0)], axis=-1)\n",
    "        # 4\n",
    "        if predict_word.numpy()[0] == end_token: break\n",
    "        if test_tensor.shape[1] >= max_len: break\n",
    "\n",
    "    generated = \"\"\n",
    "    # tokenizer를 이용해 word index를 단어로 하나씩 변환합니다 \n",
    "    for word_index in test_tensor[0].numpy():\n",
    "        generated += tokenizer.index_word[word_index] + \" \"\n",
    "\n",
    "    return generated"
   ]
  },
  {
   "cell_type": "code",
   "execution_count": 82,
   "id": "5555dbe4",
   "metadata": {},
   "outputs": [
    {
     "name": "stdout",
     "output_type": "stream",
     "text": [
      "<start> i love you <end> \n",
      "<start> hey boy , i really wanna be with you <end> \n",
      "<start> sunday , is when i get my <unk> <end> \n",
      "<start> what should i do , babe ? <end> \n"
     ]
    }
   ],
   "source": [
    "print(generate_text(model_lstm, tokenizer, init_sentence=\"<start> i love\", max_len=20))\n",
    "print(generate_text(model_lstm, tokenizer, init_sentence=\"<start> hey boy\", max_len=20))\n",
    "print(generate_text(model_lstm, tokenizer, init_sentence=\"<start> sunday\", max_len=20))\n",
    "print(generate_text(model_lstm, tokenizer, init_sentence=\"<start> what should\", max_len=20))"
   ]
  },
  {
   "cell_type": "markdown",
   "id": "31d6770f",
   "metadata": {},
   "source": [
    "## 07. 회고\n",
    "\n",
    "#### 모델을 다양하게 써보지 못한 점이 아쉽다. 하지만 우수 노드를 참고해보니 학습의 속도와 정확도는 좋지만 막상 출력하는 결과물은 드라마틱하지 않은 듯 하다. 그만큼 자연어 처리는 분류와 회귀 문제 또는 CV랑은 전혀 다른 영역이란 것을 느꼈다. 아마 Overfitting에 상당히 예민하게 반응하는 분야라고 예상된다.\n",
    "- NLP에서는 어떤 전처리 과정들이 있는지 좀 더 찾아볼 필요가 있다.\n",
    "- Loss값이 모델의 성능과 큰 영향이 있는 것은 아닌 것 같다. 이 부분에 대한 이유들도 찾아보자.\n"
   ]
  }
 ],
 "metadata": {
  "kernelspec": {
   "display_name": "Python 3 (ipykernel)",
   "language": "python",
   "name": "python3"
  },
  "language_info": {
   "codemirror_mode": {
    "name": "ipython",
    "version": 3
   },
   "file_extension": ".py",
   "mimetype": "text/x-python",
   "name": "python",
   "nbconvert_exporter": "python",
   "pygments_lexer": "ipython3",
   "version": "3.9.7"
  }
 },
 "nbformat": 4,
 "nbformat_minor": 5
}
