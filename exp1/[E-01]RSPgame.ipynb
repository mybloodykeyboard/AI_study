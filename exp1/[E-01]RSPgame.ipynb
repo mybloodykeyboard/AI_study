{
 "cells": [
  {
   "cell_type": "markdown",
   "id": "ce1e22d1",
   "metadata": {},
   "source": [
    "Exp01. 가위바위보 분류하기\n",
    "=============\n",
    "---\n",
    "\n",
    "딥러닝 모델을 통해 가위바위보 이미지 분류기를 만들자.\n",
    "- TesnsorFlow 표준 API, Keras의 Sequential 분류 모델 활용\n",
    "- 이미지 데이터 준비 및 전처리 과정\n",
    "- train, test 데이터셋 분리 및 활용\n",
    "- 성능 개선 과정\n"
   ]
  },
  {
   "cell_type": "code",
   "execution_count": 1,
   "id": "abb06481",
   "metadata": {},
   "outputs": [
    {
     "name": "stdout",
     "output_type": "stream",
     "text": [
      "import 완료!\n"
     ]
    }
   ],
   "source": [
    "import glob\n",
    "import os\n",
    "import random\n",
    "\n",
    "import numpy as np\n",
    "import tensorflow as tf\n",
    "from tensorflow import keras\n",
    "\n",
    "from sklearn.model_selection import train_test_split\n",
    "from PIL import Image\n",
    "import matplotlib.pyplot as plt\n",
    "%matplotlib inline\n",
    "\n",
    "print(\"import 완료!\")"
   ]
  },
  {
   "cell_type": "markdown",
   "id": "4a7f5530",
   "metadata": {},
   "source": [
    "## 1. 데이터 준비 및 전처리\n",
    "### 1-1. 데이터 수집\n",
    "- Teachable Machine을 사용하여 직접 가위,바위,보 손 모양 사진 각 100장씩 촬영.\n",
    "- 내가 만든 데이터 300장으로 training 하고, 다른 교육생의 데이터 300장으로 test시행.\n",
    "- Train Dataset의 양이 너무 부족하여, 다른 데이터들을 수집하여 5000장 이상 확보.\n",
    "\n",
    "### 1-2. 데이터 전처리 과정\n",
    "- 배경 또는 사진이 너무 복잡한 경우 제외하거나 다른 이미지로 대체,\n",
    "- 다양한 각도로 촬영된 사진 사용. 하지만 손모양 구별이 어려운 사진은 제외,\n",
    "- 연속 촬영된 사진이 많기 때문에 고려하여 최대한 다양한 사람의 사진을 사용.\n",
    "- 선별된 2700장의 training data를 이용.\n",
    "\n",
    "### 1-3. 이미지 크기 변경(28*28)"
   ]
  },
  {
   "cell_type": "code",
   "execution_count": 36,
   "id": "69f3055a",
   "metadata": {},
   "outputs": [
    {
     "name": "stdout",
     "output_type": "stream",
     "text": [
      "900  images to be resized.\n",
      "900  images resized.\n",
      "900  images to be resized.\n",
      "900  images resized.\n",
      "900  images to be resized.\n",
      "900  images resized.\n",
      "(가로, 세로) = (28, 28)\n"
     ]
    },
    {
     "data": {
      "image/png": "[encoded data removed]",
      "text/plain": [
       "<PIL.JpegImagePlugin.JpegImageFile image mode=RGB size=28x28 at 0x7FB6918CD6D0>"
      ]
     },
     "execution_count": 36,
     "metadata": {},
     "output_type": "execute_result"
    }
   ],
   "source": [
    "image_dir_path = os.getenv(\"HOME\") + \"/aiffel/rock_scissor_paper\"\n",
    "\n",
    "ef resize_images(img_path):\n",
    "    images=glob.glob(img_path + \"/*.jpg\")  \n",
    "    \n",
    "    print(len(images), \" images to be resized.\")\n",
    "\n",
    "    # 파일마다 모두 28x28 사이즈로 바꾸어 저장합니다.\n",
    "    target_size=(28,28)\n",
    "    for img in images:\n",
    "        old_img=Image.open(img)\n",
    "        new_img=old_img.resize(target_size,Image.ANTIALIAS)\n",
    "        new_img.save(img, \"JPEG\")\n",
    "\n",
    "    print(len(images), \" images resized.\")\n",
    "\n",
    "# 가위,바위,보 이미지가 저장된 디렉토리 아래의 모든 jpg 파일을 읽어들여서 리사이즈\n",
    "resize_images(image_dir_path + \"/rock\")\n",
    "resize_images(image_dir_path + \"/scissor\")\n",
    "resize_images(image_dir_path + \"/paper\")\n",
    "\n",
    "print(f\"(가로, 세로) = ({img.width}, {img.height})\")\n",
    "img"
   ]
  },
  {
   "cell_type": "markdown",
   "id": "a7950de9",
   "metadata": {},
   "source": [
    "### 1-4 이미지 라벨링\n",
    "- 가위 : 0, 바위 : 1, 보 : 2 으로 모든 이미지에 라벨링을 해줌.\n",
    "- 0 부터 2699의 인덱스로 각각 label이 지정된 데이터셋이 완성됨."
   ]
  },
  {
   "cell_type": "code",
   "execution_count": 27,
   "id": "6be51dff",
   "metadata": {},
   "outputs": [
    {
     "name": "stdout",
     "output_type": "stream",
     "text": [
      "이미지 개수는 2700 입니다.\n"
     ]
    }
   ],
   "source": [
    "import numpy as np\n",
    "\n",
    "def load_data(img_path, number_of_data=2700):  # 가위바위보 이미지 개수 총합에 주의하세요.\n",
    "    # 가위 : 0, 바위 : 1, 보 : 2\n",
    "    img_size=28\n",
    "    color=3\n",
    "    #이미지 데이터와 라벨(가위 : 0, 바위 : 1, 보 : 2) 데이터를 담을 행렬(matrix) 영역을 생성합니다.\n",
    "    imgs=np.zeros(number_of_data*img_size*img_size*color,dtype=np.int32).reshape(number_of_data,img_size,img_size,color)\n",
    "    labels=np.zeros(number_of_data,dtype=np.int32)\n",
    "\n",
    "    idx=0\n",
    "    for file in glob.iglob(img_path+'/scissor/*.jpg'):\n",
    "        img = np.array(Image.open(file),dtype=np.int32)\n",
    "        imgs[idx,:,:,:]=img    # 데이터 영역에 이미지 행렬을 복사\n",
    "        labels[idx]=0   # 가위 : 0\n",
    "        idx=idx+1\n",
    "\n",
    "    for file in glob.iglob(img_path+'/rock/*.jpg'):\n",
    "        img = np.array(Image.open(file),dtype=np.int32)\n",
    "        imgs[idx,:,:,:]=img   \n",
    "        labels[idx]=1   # 바위 : 1\n",
    "        idx=idx+1  \n",
    "    \n",
    "    for file in glob.iglob(img_path+'/paper/*.jpg'):\n",
    "        img = np.array(Image.open(file),dtype=np.int32)\n",
    "        imgs[idx,:,:,:]=img    \n",
    "        labels[idx]=2   # 보 : 2\n",
    "        idx=idx+1\n",
    "        \n",
    "    print(\"이미지 개수는\", idx,\"입니다.\")\n",
    "    return imgs, labels\n",
    "\n",
    "(x_train, y_train) = load_data(image_dir_path)"
   ]
  },
  {
   "cell_type": "markdown",
   "id": "d355feeb",
   "metadata": {},
   "source": [
    "### 1-5 test, validation split하기\n",
    "- 이미지 데이터인 train 데이터를 정규화해준 후에 데이터 split 시행. \n",
    "(한 개의 픽셀이 0 ~ 255 까지의 정보를 가지고 있을 수 있기 때문에 255로 나눠 0~1로 표현.)"
   ]
  },
  {
   "cell_type": "code",
   "execution_count": 28,
   "id": "018daaca",
   "metadata": {},
   "outputs": [
    {
     "name": "stdout",
     "output_type": "stream",
     "text": [
      "(2160, 28, 28, 3) (540, 28, 28, 3) (2160,) (540,)\n"
     ]
    }
   ],
   "source": [
    "# 데이터를 0~1 사이 값으로 정규화(Min-Max Normalization)\n",
    "x_train_norm = x_train / 255.0\n",
    "\n",
    "# train, validation data 무작위로 섞어서 나누기 (x_train_norm을 다시 x_train에 넣어주었음.)\n",
    "x_train, x_val, y_train, y_val = train_test_split(x_train_norm, y_train, test_size=0.2, shuffle=True, random_state=12)\n",
    "\n",
    "# train, validation data의 사이즈 확인\n",
    "print(x_train.shape, x_val.shape, y_train.shape, y_val.shape)\n"
   ]
  },
  {
   "cell_type": "markdown",
   "id": "552b9d6e",
   "metadata": {},
   "source": [
    "---\n",
    "## 2. 모델 설계 및 학습\n",
    "\n",
    "### 2-1. 모델 설계\n",
    "- Overfitting 을 피하기 위해 Dropout 레이어 추가."
   ]
  },
  {
   "cell_type": "code",
   "execution_count": 29,
   "id": "cf76ff5a",
   "metadata": {},
   "outputs": [
    {
     "name": "stdout",
     "output_type": "stream",
     "text": [
      "Model: \"sequential_5\"\n",
      "_________________________________________________________________\n",
      "Layer (type)                 Output Shape              Param #   \n",
      "=================================================================\n",
      "conv2d_10 (Conv2D)           (None, 26, 26, 128)       3584      \n",
      "_________________________________________________________________\n",
      "max_pooling2d_10 (MaxPooling (None, 13, 13, 128)       0         \n",
      "_________________________________________________________________\n",
      "conv2d_11 (Conv2D)           (None, 11, 11, 256)       295168    \n",
      "_________________________________________________________________\n",
      "max_pooling2d_11 (MaxPooling (None, 5, 5, 256)         0         \n",
      "_________________________________________________________________\n",
      "flatten_5 (Flatten)          (None, 6400)              0         \n",
      "_________________________________________________________________\n",
      "dense_15 (Dense)             (None, 256)               1638656   \n",
      "_________________________________________________________________\n",
      "dropout_7 (Dropout)          (None, 256)               0         \n",
      "_________________________________________________________________\n",
      "dense_16 (Dense)             (None, 512)               131584    \n",
      "_________________________________________________________________\n",
      "dense_17 (Dense)             (None, 3)                 1539      \n",
      "=================================================================\n",
      "Total params: 2,070,531\n",
      "Trainable params: 2,070,531\n",
      "Non-trainable params: 0\n",
      "_________________________________________________________________\n"
     ]
    }
   ],
   "source": [
    "# 모델 설계\n",
    "n_channel_1=128\n",
    "n_channel_2=256\n",
    "n_dense_1=256\n",
    "n_dense_2=512\n",
    "\n",
    "model=keras.models.Sequential()\n",
    "model.add(keras.layers.Conv2D(n_channel_1, (3,3), activation='relu', input_shape=(28,28,3)))\n",
    "model.add(keras.layers.MaxPool2D(2,2))\n",
    "model.add(keras.layers.Conv2D(n_channel_2, (3,3), activation='relu'))\n",
    "model.add(keras.layers.MaxPooling2D((2,2)))\n",
    "model.add(keras.layers.Flatten())\n",
    "model.add(keras.layers.Dense(n_dense_1, activation='relu'))\n",
    "model.add(keras.layers.Dropout(0.2))\n",
    "model.add(keras.layers.Dense(n_dense_2, activation='relu'))\n",
    "model.add(keras.layers.Dense(3, activation='softmax'))  #3개의 클래스로 분류\n",
    "\n",
    "# 모델 개요 확인\n",
    "model.summary()"
   ]
  },
  {
   "cell_type": "markdown",
   "id": "87ff1265",
   "metadata": {},
   "source": [
    "### 2-2. 모델 학습\n",
    "- validation set을 통해 overfitting을 방지.\n",
    "- val_accrucay가 큰 변화없이 오히려 낮아지려는 지점을 overfitting이 시작되는 구간으로 보고, epochs 수를 조정.\n",
    "- accuracy loss 값을 history 그래프로 시각화하여 재확인\n",
    "- 평균적으로 현재 모델에서 epochs=30에서 최적의 성능을 확인."
   ]
  },
  {
   "cell_type": "code",
   "execution_count": 30,
   "id": "1ae3313d",
   "metadata": {},
   "outputs": [
    {
     "name": "stdout",
     "output_type": "stream",
     "text": [
      "Epoch 1/30\n",
      "68/68 [==============================] - 1s 8ms/step - loss: 1.0829 - accuracy: 0.3769 - val_loss: 0.9649 - val_accuracy: 0.5148\n",
      "Epoch 2/30\n",
      "68/68 [==============================] - 0s 5ms/step - loss: 0.8103 - accuracy: 0.6116 - val_loss: 0.7259 - val_accuracy: 0.6667\n",
      "Epoch 3/30\n",
      "68/68 [==============================] - 0s 5ms/step - loss: 0.5080 - accuracy: 0.7787 - val_loss: 0.3957 - val_accuracy: 0.8333\n",
      "Epoch 4/30\n",
      "68/68 [==============================] - 0s 5ms/step - loss: 0.3556 - accuracy: 0.8579 - val_loss: 0.3556 - val_accuracy: 0.8333\n",
      "Epoch 5/30\n",
      "68/68 [==============================] - 0s 5ms/step - loss: 0.2312 - accuracy: 0.9074 - val_loss: 0.2366 - val_accuracy: 0.9019\n",
      "Epoch 6/30\n",
      "68/68 [==============================] - 0s 5ms/step - loss: 0.1912 - accuracy: 0.9315 - val_loss: 0.2177 - val_accuracy: 0.9093\n",
      "Epoch 7/30\n",
      "68/68 [==============================] - 0s 5ms/step - loss: 0.1397 - accuracy: 0.9435 - val_loss: 0.1696 - val_accuracy: 0.9241\n",
      "Epoch 8/30\n",
      "68/68 [==============================] - 0s 5ms/step - loss: 0.0844 - accuracy: 0.9667 - val_loss: 0.1396 - val_accuracy: 0.9426\n",
      "Epoch 9/30\n",
      "68/68 [==============================] - 0s 5ms/step - loss: 0.0783 - accuracy: 0.9718 - val_loss: 0.1141 - val_accuracy: 0.9556\n",
      "Epoch 10/30\n",
      "68/68 [==============================] - 0s 5ms/step - loss: 0.0694 - accuracy: 0.9773 - val_loss: 0.4516 - val_accuracy: 0.8852\n",
      "Epoch 11/30\n",
      "68/68 [==============================] - 0s 5ms/step - loss: 0.0926 - accuracy: 0.9727 - val_loss: 0.1234 - val_accuracy: 0.9611\n",
      "Epoch 12/30\n",
      "68/68 [==============================] - 0s 5ms/step - loss: 0.0936 - accuracy: 0.9639 - val_loss: 0.1194 - val_accuracy: 0.9704\n",
      "Epoch 13/30\n",
      "68/68 [==============================] - 0s 5ms/step - loss: 0.0583 - accuracy: 0.9810 - val_loss: 0.1329 - val_accuracy: 0.9556\n",
      "Epoch 14/30\n",
      "68/68 [==============================] - 0s 5ms/step - loss: 0.0275 - accuracy: 0.9917 - val_loss: 0.1172 - val_accuracy: 0.9685\n",
      "Epoch 15/30\n",
      "68/68 [==============================] - 0s 5ms/step - loss: 0.0396 - accuracy: 0.9884 - val_loss: 0.1154 - val_accuracy: 0.9722\n",
      "Epoch 16/30\n",
      "68/68 [==============================] - 0s 5ms/step - loss: 0.0432 - accuracy: 0.9894 - val_loss: 0.0994 - val_accuracy: 0.9759\n",
      "Epoch 17/30\n",
      "68/68 [==============================] - 0s 5ms/step - loss: 0.0352 - accuracy: 0.9912 - val_loss: 0.1461 - val_accuracy: 0.9611\n",
      "Epoch 18/30\n",
      "68/68 [==============================] - 0s 5ms/step - loss: 0.0237 - accuracy: 0.9921 - val_loss: 0.0897 - val_accuracy: 0.9778\n",
      "Epoch 19/30\n",
      "68/68 [==============================] - 0s 5ms/step - loss: 0.0251 - accuracy: 0.9917 - val_loss: 0.0885 - val_accuracy: 0.9796\n",
      "Epoch 20/30\n",
      "68/68 [==============================] - 0s 5ms/step - loss: 0.0133 - accuracy: 0.9968 - val_loss: 0.0918 - val_accuracy: 0.9778\n",
      "Epoch 21/30\n",
      "68/68 [==============================] - 0s 5ms/step - loss: 0.0475 - accuracy: 0.9875 - val_loss: 0.1271 - val_accuracy: 0.9574\n",
      "Epoch 22/30\n",
      "68/68 [==============================] - 0s 5ms/step - loss: 0.0183 - accuracy: 0.9944 - val_loss: 0.0956 - val_accuracy: 0.9833\n",
      "Epoch 23/30\n",
      "68/68 [==============================] - 0s 5ms/step - loss: 0.0195 - accuracy: 0.9944 - val_loss: 0.1233 - val_accuracy: 0.9704\n",
      "Epoch 24/30\n",
      "68/68 [==============================] - 0s 5ms/step - loss: 0.0304 - accuracy: 0.9903 - val_loss: 0.1455 - val_accuracy: 0.9667\n",
      "Epoch 25/30\n",
      "68/68 [==============================] - 0s 5ms/step - loss: 0.0789 - accuracy: 0.9764 - val_loss: 0.1343 - val_accuracy: 0.9648\n",
      "Epoch 26/30\n",
      "68/68 [==============================] - 0s 5ms/step - loss: 0.0359 - accuracy: 0.9875 - val_loss: 0.1624 - val_accuracy: 0.9704\n",
      "Epoch 27/30\n",
      "68/68 [==============================] - 0s 5ms/step - loss: 0.0201 - accuracy: 0.9935 - val_loss: 0.0970 - val_accuracy: 0.9815\n",
      "Epoch 28/30\n",
      "68/68 [==============================] - 0s 5ms/step - loss: 0.0134 - accuracy: 0.9954 - val_loss: 0.1113 - val_accuracy: 0.9722\n",
      "Epoch 29/30\n",
      "68/68 [==============================] - 0s 5ms/step - loss: 0.0221 - accuracy: 0.9917 - val_loss: 0.1047 - val_accuracy: 0.9778\n",
      "Epoch 30/30\n",
      "68/68 [==============================] - 0s 5ms/step - loss: 0.0103 - accuracy: 0.9968 - val_loss: 0.1037 - val_accuracy: 0.9778\n"
     ]
    }
   ],
   "source": [
    "#es = EarlyStopping(monitor='val_loss', mode='min', verbose=1, patience=50)\n",
    "\n",
    "model.compile(optimizer='adam',\n",
    "             loss='sparse_categorical_crossentropy',\n",
    "             metrics=['accuracy'])\n",
    "\n",
    "# 모델 훈련\n",
    "result = model.fit(x_train, y_train, epochs=30, validation_data=(x_val, y_val))\n"
   ]
  },
  {
   "cell_type": "code",
   "execution_count": 32,
   "id": "e08c8f2f",
   "metadata": {},
   "outputs": [
    {
     "data": {
      "text/plain": [
       "<matplotlib.legend.Legend at 0x7fb692213f70>"
      ]
     },
     "execution_count": 32,
     "metadata": {},
     "output_type": "execute_result"
    },
    {
     "data": {
      "image/png": "[encoded data removed]",
      "text/plain": [
       "<Figure size 792x504 with 1 Axes>"
      ]
     },
     "metadata": {
      "needs_background": "light"
     },
     "output_type": "display_data"
    }
   ],
   "source": [
    "# epochs에 따른 accuracy, loss 값을 그래프로 시각화\n",
    "plt.figure(figsize=(11, 7))\n",
    "\n",
    "plt.plot(result.history['accuracy'])\n",
    "plt.plot(result.history['val_accuracy'])\n",
    "plt.plot(result.history['loss'])\n",
    "plt.plot(result.history['val_loss'])\n",
    "\n",
    "plt.title('Model Performance')\n",
    "plt.xlabel('Epochs')\n",
    "plt.ylabel('Accuracy & Loss')\n",
    "plt.legend(['train_acc', 'val_acc', 'train_loss', 'val_loss'], loc='center right')"
   ]
  },
  {
   "cell_type": "markdown",
   "id": "2772e3d1",
   "metadata": {},
   "source": [
    "---\n",
    "## 3. 성능 평가\n",
    "### 3-1. Test dataset 준비"
   ]
  },
  {
   "cell_type": "code",
   "execution_count": 37,
   "id": "2f225cbe",
   "metadata": {},
   "outputs": [
    {
     "name": "stdout",
     "output_type": "stream",
     "text": [
      "100  images to be resized.\n",
      "100  images resized.\n",
      "100  images to be resized.\n",
      "100  images resized.\n",
      "100  images to be resized.\n",
      "100  images resized.\n",
      "이미지 개수는 300 입니다.\n"
     ]
    }
   ],
   "source": [
    "# test 데이터가 있는 경로를 변수에 저장\n",
    "test_path = os.getenv(\"HOME\") + \"/aiffel/rock_scissor_paper/test2\"\n",
    "\n",
    "resize_images(test_path + \"/rock\")        #28*28 이미지로 리사이즈하여 저장.\n",
    "resize_images(test_path + \"/scissor\")\n",
    "resize_images(test_path + \"/paper\")\n",
    "\n",
    "(x_test, y_test) = load_data(test_path, 300)\n",
    "\n",
    "# test 데이터 정규화 (Min-Max Normalization)\n",
    "x_test_norm = x_test / 255.0  "
   ]
  },
  {
   "cell_type": "markdown",
   "id": "2e69f5e9",
   "metadata": {},
   "source": [
    "### 3-2. test loss와 accuracy\n",
    "\n",
    "- 모델의 성능 => loss: 1.6050 - accuracy: 0.7367\n"
   ]
  },
  {
   "cell_type": "code",
   "execution_count": 38,
   "id": "fa09d939",
   "metadata": {},
   "outputs": [
    {
     "name": "stdout",
     "output_type": "stream",
     "text": [
      "10/10 - 0s - loss: 1.6050 - accuracy: 0.7367\n"
     ]
    }
   ],
   "source": [
    "# loss, accuracy를 통해 model 평가\n",
    "test_loss, test_accuracy = model.evaluate(x_test_norm, y_test, verbose=2)"
   ]
  },
  {
   "cell_type": "markdown",
   "id": "8d5a3a5c",
   "metadata": {},
   "source": [
    "---\n",
    "## 4. 회고\n",
    "### 성능 개선 과정\n",
    "#### Dataset\n",
    "1. 300개의 데이터에서 시작하여, 900, 1200, 5000장 가까이 늘렸으나, 성능에 도움되지 않는 방해요소가 많아보이는 사진들은 모두 제외하여 2700장으로 선정했다.\n",
    "2. Dataset에 변화를 주는 것이 실제 성능에서 큰 차이를 보여주었는데, 데이터 수집과 전처리 과정이 중요하다는 것을 알 수 있었다.\n",
    "3. 모든 데이터를 모아서 그 중 일부를 testset으로 추출하는 식으로 데이터를 나눠줄 경우 성능이 매우 쉽게 상승하는데(accuracy : 0.9이상), 프레임 단위로 촬영된 dataset이기 때문에 사실상 testdata의 족보를 받아서 학습한 것과 같은 것으로 보인다.\n",
    "4. Image 사이즈를 키우는 것도 정확도 상승에 도움이 되었다. 56x56 으로 시도했을 때 약간의 상승이 있었다.\n",
    "5. Train dataset을 0.2의 비율로 Validation dataset으로 나누어 학습시켜 overfitting을 피하도록 하였다.\n",
    "\n",
    "#### Model\n",
    "1. Dropout을 사용하여 overfitting을 피했다.\n",
    "2. n1,2 channel과 dense layer의 수를 늘려서 더욱 섬세한 학습을 하도록 하여 정확도 상승에도 확실한 효과가 있었다.\n",
    "\n",
    "### 덧붙이며\n",
    "굉장히 단순한 프로젝트임에도 극적인 성능을 낼 수 있도록 하는 일은 상당히 어렵다는 것을 느꼈다. 비슷한 내용의 노드 또는 프로젝트를 마주하게 될 경우를 대비하여 data augmentation과 여러 학습 기법들(Batch Norm, Dropout, Weight initialization, 등...)에 대해 좀 깊이 공부해야함을 느꼈고, 좋은 성능을 위해 이미 어느 정도 좋은 성능을 낼 수 있는 Pretained Model도 다음에 사용해보면 좋을 것 같다."
   ]
  },
  {
   "cell_type": "code",
   "execution_count": null,
   "id": "b9b36baf",
   "metadata": {},
   "outputs": [],
   "source": []
  }
 ],
 "metadata": {
  "kernelspec": {
   "display_name": "Python 3 (ipykernel)",
   "language": "python",
   "name": "python3"
  },
  "language_info": {
   "codemirror_mode": {
    "name": "ipython",
    "version": 3
   },
   "file_extension": ".py",
   "mimetype": "text/x-python",
   "name": "python",
   "nbconvert_exporter": "python",
   "pygments_lexer": "ipython3",
   "version": "3.9.7"
  }
 },
 "nbformat": 4,
 "nbformat_minor": 5
}
